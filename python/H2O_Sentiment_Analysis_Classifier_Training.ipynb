{
 "cells": [
  {
   "cell_type": "markdown",
   "metadata": {},
   "source": [
    "# Tweet sentiment classifier training on H2O to import in a Scala environment"
   ]
  },
  {
   "cell_type": "code",
   "execution_count": 1,
   "metadata": {
    "ExecuteTime": {
     "end_time": "2018-11-30T09:43:24.113448Z",
     "start_time": "2018-11-30T09:43:23.984111Z"
    }
   },
   "outputs": [],
   "source": [
    "import h2o"
   ]
  },
  {
   "cell_type": "markdown",
   "metadata": {},
   "source": [
    "## Initialize H2O session"
   ]
  },
  {
   "cell_type": "code",
   "execution_count": 2,
   "metadata": {
    "ExecuteTime": {
     "end_time": "2018-11-30T09:43:27.513625Z",
     "start_time": "2018-11-30T09:43:24.414342Z"
    }
   },
   "outputs": [
    {
     "name": "stdout",
     "output_type": "stream",
     "text": [
      "Checking whether there is an H2O instance running at http://localhost:54321..... not found.\n",
      "Attempting to start a local H2O server...\n",
      "  Java Version: openjdk version \"1.8.0_171\"; OpenJDK Runtime Environment (build 1.8.0_171-8u171-b11-2~14.04-b11); OpenJDK 64-Bit Server VM (build 25.171-b11, mixed mode)\n",
      "  Starting server from /home/users/qcoic/miniconda3/lib/python3.6/site-packages/h2o/backend/bin/h2o.jar\n",
      "  Ice root: /tmp/tmpr886e_zj\n",
      "  JVM stdout: /tmp/tmpr886e_zj/h2o_qcoic_started_from_python.out\n",
      "  JVM stderr: /tmp/tmpr886e_zj/h2o_qcoic_started_from_python.err\n",
      "  Server is running at http://127.0.0.1:54321\n",
      "Connecting to H2O server at http://127.0.0.1:54321... successful.\n",
      "Warning: Your H2O cluster version is too old (11 months and 30 days)! Please download and install the latest version from http://h2o.ai/download/\n"
     ]
    },
    {
     "data": {
      "text/html": [
       "<div style=\"overflow:auto\"><table style=\"width:50%\"><tr><td>H2O cluster uptime:</td>\n",
       "<td>01 secs</td></tr>\n",
       "<tr><td>H2O cluster version:</td>\n",
       "<td>3.16.0.2</td></tr>\n",
       "<tr><td>H2O cluster version age:</td>\n",
       "<td>11 months and 30 days !!!</td></tr>\n",
       "<tr><td>H2O cluster name:</td>\n",
       "<td>H2O_from_python_qcoic_yghi8r</td></tr>\n",
       "<tr><td>H2O cluster total nodes:</td>\n",
       "<td>1</td></tr>\n",
       "<tr><td>H2O cluster free memory:</td>\n",
       "<td>56.89 Gb</td></tr>\n",
       "<tr><td>H2O cluster total cores:</td>\n",
       "<td>48</td></tr>\n",
       "<tr><td>H2O cluster allowed cores:</td>\n",
       "<td>48</td></tr>\n",
       "<tr><td>H2O cluster status:</td>\n",
       "<td>accepting new members, healthy</td></tr>\n",
       "<tr><td>H2O connection url:</td>\n",
       "<td>http://127.0.0.1:54321</td></tr>\n",
       "<tr><td>H2O connection proxy:</td>\n",
       "<td>None</td></tr>\n",
       "<tr><td>H2O internal security:</td>\n",
       "<td>False</td></tr>\n",
       "<tr><td>H2O API Extensions:</td>\n",
       "<td>XGBoost, Algos, AutoML, Core V3, Core V4</td></tr>\n",
       "<tr><td>Python version:</td>\n",
       "<td>3.6.5 final</td></tr></table></div>"
      ],
      "text/plain": [
       "--------------------------  ----------------------------------------\n",
       "H2O cluster uptime:         01 secs\n",
       "H2O cluster version:        3.16.0.2\n",
       "H2O cluster version age:    11 months and 30 days !!!\n",
       "H2O cluster name:           H2O_from_python_qcoic_yghi8r\n",
       "H2O cluster total nodes:    1\n",
       "H2O cluster free memory:    56.89 Gb\n",
       "H2O cluster total cores:    48\n",
       "H2O cluster allowed cores:  48\n",
       "H2O cluster status:         accepting new members, healthy\n",
       "H2O connection url:         http://127.0.0.1:54321\n",
       "H2O connection proxy:\n",
       "H2O internal security:      False\n",
       "H2O API Extensions:         XGBoost, Algos, AutoML, Core V3, Core V4\n",
       "Python version:             3.6.5 final\n",
       "--------------------------  ----------------------------------------"
      ]
     },
     "metadata": {},
     "output_type": "display_data"
    }
   ],
   "source": [
    "h2o.init(max_mem_size='64g')"
   ]
  },
  {
   "cell_type": "markdown",
   "metadata": {},
   "source": [
    "## Import the [Sentiment140](http://help.sentiment140.com/for-students/) labelled dataset to train our classifier"
   ]
  },
  {
   "cell_type": "code",
   "execution_count": 3,
   "metadata": {
    "ExecuteTime": {
     "end_time": "2018-11-30T09:43:39.763435Z",
     "start_time": "2018-11-30T09:43:27.531029Z"
    }
   },
   "outputs": [
    {
     "name": "stdout",
     "output_type": "stream",
     "text": [
      "Parse progress: |██████████████████████████████████████████████████████████| 100%\n"
     ]
    }
   ],
   "source": [
    "tweets_df = h2o.import_file(\"training.1600000.processed.noemoticon.csv\")"
   ]
  },
  {
   "cell_type": "markdown",
   "metadata": {},
   "source": [
    "## Keep the needed columns "
   ]
  },
  {
   "cell_type": "code",
   "execution_count": 4,
   "metadata": {
    "ExecuteTime": {
     "end_time": "2018-11-30T09:43:39.940386Z",
     "start_time": "2018-11-30T09:43:39.930016Z"
    }
   },
   "outputs": [],
   "source": [
    "tweet_texts = tweets_df[['C6']]"
   ]
  },
  {
   "cell_type": "code",
   "execution_count": 5,
   "metadata": {
    "ExecuteTime": {
     "end_time": "2018-11-30T09:43:40.462435Z",
     "start_time": "2018-11-30T09:43:40.135891Z"
    }
   },
   "outputs": [],
   "source": [
    "tweet_texts['Sentiment'] = (tweets_df['C1'] == 4).ifelse(\"1\", \"0\") # It is important to not let the outputs as integers "
   ]
  },
  {
   "cell_type": "code",
   "execution_count": 6,
   "metadata": {
    "ExecuteTime": {
     "end_time": "2018-11-30T09:43:45.639257Z",
     "start_time": "2018-11-30T09:43:45.636969Z"
    }
   },
   "outputs": [],
   "source": [
    "tweet_texts.names = ['Text', 'Sentiment']"
   ]
  },
  {
   "cell_type": "markdown",
   "metadata": {},
   "source": [
    "## Import [Stop Words](https://en.wikipedia.org/wiki/Stop_words)"
   ]
  },
  {
   "cell_type": "code",
   "execution_count": 7,
   "metadata": {
    "ExecuteTime": {
     "end_time": "2018-11-30T09:43:46.258423Z",
     "start_time": "2018-11-30T09:43:45.709564Z"
    }
   },
   "outputs": [],
   "source": [
    "# Set Stop Words\n",
    "# The STOP WORDS we are importing are from the nltk package\n",
    "import pandas as pd\n",
    "import os\n",
    "\n",
    "# Use local data file or download from GitHub\n",
    "docker_data_path = \"/home/h2o/data/nlp/stopwords.csv\"\n",
    "if os.path.isfile(docker_data_path):\n",
    "  data_path = docker_data_path\n",
    "else:\n",
    "  data_path = \"https://raw.githubusercontent.com/h2oai/h2o-tutorials/master/h2o-world-2017/nlp/stopwords.csv\"\n",
    "\n",
    "STOP_WORDS = pd.read_csv(data_path, header=0)\n",
    "STOP_WORDS = list(STOP_WORDS['STOP_WORD'])"
   ]
  },
  {
   "cell_type": "markdown",
   "metadata": {},
   "source": [
    "## Define a [tokenizer](https://en.wikipedia.org/wiki/Lexical_analysis#Tokenization) to transform tweet texts into sequences of words characterizing them"
   ]
  },
  {
   "cell_type": "code",
   "execution_count": 8,
   "metadata": {
    "ExecuteTime": {
     "end_time": "2018-11-30T09:43:46.317417Z",
     "start_time": "2018-11-30T09:43:46.314052Z"
    }
   },
   "outputs": [],
   "source": [
    "def tokenize(sentences, stop_word = STOP_WORDS):\n",
    "    tokenized = sentences.tokenize(\"\\\\W+\")\n",
    "    tokenized_lower = tokenized.tolower()\n",
    "    tokenized_filtered = tokenized_lower[(tokenized_lower.nchar() >= 2) | (tokenized_lower.isna()),:]\n",
    "    tokenized_words = tokenized_filtered[tokenized_filtered.grep(\"[0-9]\",invert=True,output_logical=True),:]\n",
    "    tokenized_words = tokenized_words[(tokenized_words.isna()) | (~ tokenized_words.isin(STOP_WORDS)),:]\n",
    "    return tokenized_words"
   ]
  },
  {
   "cell_type": "markdown",
   "metadata": {},
   "source": [
    "## Tokenize tweet texts"
   ]
  },
  {
   "cell_type": "code",
   "execution_count": 9,
   "metadata": {
    "ExecuteTime": {
     "end_time": "2018-11-30T09:43:59.438922Z",
     "start_time": "2018-11-30T09:43:46.369924Z"
    }
   },
   "outputs": [],
   "source": [
    "words = tokenize(tweet_texts[\"Text\"])"
   ]
  },
  {
   "cell_type": "markdown",
   "metadata": {},
   "source": [
    "## Train a [Word2Vec](http://docs.h2o.ai/h2o/latest-stable/h2o-docs/data-science/word2vec.html) model on texts of the Sentiment140 dataset or load a pre-trained one"
   ]
  },
  {
   "cell_type": "code",
   "execution_count": 10,
   "metadata": {
    "ExecuteTime": {
     "end_time": "2018-11-30T09:44:10.263295Z",
     "start_time": "2018-11-30T09:44:10.123320Z"
    }
   },
   "outputs": [],
   "source": [
    "# Train Word2Vec Model\n",
    "from h2o.estimators.word2vec import H2OWord2vecEstimator\n",
    "\n",
    "# This takes time to run - left commented out\n",
    "#w2v_model = H2OWord2vecEstimator(vec_size = 100, model_id = \"w2v.hex\")\n",
    "#w2v_model.train(training_frame=words)\n",
    "\n",
    "#Pre-trained model available on s3: https://s3.amazonaws.com/tomk/h2o-world/megan/w2v.hex\n",
    "w2v_model = h2o.load_model(\"w2v.hex\")"
   ]
  },
  {
   "cell_type": "markdown",
   "metadata": {},
   "source": [
    "## Export the Word2Vec model in [MOJO](http://docs.h2o.ai/h2o/latest-stable/h2o-genmodel/javadoc/overview-summary.html#whatisamojo) format"
   ]
  },
  {
   "cell_type": "code",
   "execution_count": 11,
   "metadata": {
    "ExecuteTime": {
     "end_time": "2018-11-30T09:44:10.723668Z",
     "start_time": "2018-11-30T09:44:10.357200Z"
    }
   },
   "outputs": [
    {
     "data": {
      "text/plain": [
       "'/home/users/qcoic/notebooks/w2v_hex.zip'"
      ]
     },
     "execution_count": 11,
     "metadata": {},
     "output_type": "execute_result"
    }
   ],
   "source": [
    "w2v_model.download_mojo() # Put the zip folder in the same folder as this notebook"
   ]
  },
  {
   "cell_type": "markdown",
   "metadata": {},
   "source": [
    "## Transform the tokenized tweet texts into vector of float numbers "
   ]
  },
  {
   "cell_type": "code",
   "execution_count": 12,
   "metadata": {
    "ExecuteTime": {
     "end_time": "2018-11-30T09:44:15.409930Z",
     "start_time": "2018-11-30T09:44:10.819237Z"
    }
   },
   "outputs": [],
   "source": [
    "tweet_texts = tweet_texts.cbind(w2v_model.transform(words, aggregate_method = \"AVERAGE\"))"
   ]
  },
  {
   "cell_type": "markdown",
   "metadata": {},
   "source": [
    "## Remove NA rows"
   ]
  },
  {
   "cell_type": "code",
   "execution_count": 13,
   "metadata": {
    "ExecuteTime": {
     "end_time": "2018-11-30T09:44:16.591941Z",
     "start_time": "2018-11-30T09:44:16.589705Z"
    }
   },
   "outputs": [],
   "source": [
    "tweet_texts = tweet_texts.na_omit()"
   ]
  },
  {
   "cell_type": "markdown",
   "metadata": {},
   "source": [
    "## Split the tweet texts dataset into training and validation frames"
   ]
  },
  {
   "cell_type": "code",
   "execution_count": 14,
   "metadata": {
    "ExecuteTime": {
     "end_time": "2018-11-30T09:44:18.493912Z",
     "start_time": "2018-11-30T09:44:18.144805Z"
    }
   },
   "outputs": [],
   "source": [
    "train, valid = tweet_texts.split_frame(ratios=[.8])"
   ]
  },
  {
   "cell_type": "markdown",
   "metadata": {},
   "source": [
    "## Train a [Gradient Boosting Machine](http://docs.h2o.ai/h2o/latest-stable/h2o-docs/data-science/gbm.html) model on the vectors of float numbers "
   ]
  },
  {
   "cell_type": "code",
   "execution_count": null,
   "metadata": {
    "ExecuteTime": {
     "start_time": "2018-11-30T09:43:28.682Z"
    }
   },
   "outputs": [
    {
     "name": "stdout",
     "output_type": "stream",
     "text": [
      "gbm Model Build progress: |█"
     ]
    }
   ],
   "source": [
    "from h2o.estimators import H2OGradientBoostingEstimator\n",
    "\n",
    "predictors = tweet_texts.names[2:]\n",
    "response = 'Sentiment'\n",
    "\n",
    "gbm_sentiment_classifier = H2OGradientBoostingEstimator(stopping_metric = \"AUC\", stopping_tolerance = 0.001,\n",
    "                                                        stopping_rounds = 5, score_tree_interval = 10,\n",
    "                                                        model_id = \"gbm_sentiment_classifier.hex\")\n",
    "\n",
    "gbm_sentiment_classifier.train(x = predictors, y = response, training_frame = train, validation_frame = valid)"
   ]
  },
  {
   "cell_type": "markdown",
   "metadata": {},
   "source": [
    "## Model performance measures ([AUC](https://en.wikipedia.org/wiki/Receiver_operating_characteristic#Area_under_the_curve) and [confusion matrix](https://en.wikipedia.org/wiki/Confusion_matrix))"
   ]
  },
  {
   "cell_type": "code",
   "execution_count": null,
   "metadata": {
    "ExecuteTime": {
     "start_time": "2018-11-30T09:43:29.211Z"
    }
   },
   "outputs": [],
   "source": [
    "print(\"gbm sentiment classifier AUC: \" + str(round(gbm_sentiment_classifier.auc(valid = True), 3)))"
   ]
  },
  {
   "cell_type": "code",
   "execution_count": null,
   "metadata": {
    "ExecuteTime": {
     "start_time": "2018-11-30T09:43:29.427Z"
    },
    "scrolled": false
   },
   "outputs": [],
   "source": [
    "gbm_sentiment_classifier.confusion_matrix(valid = True)"
   ]
  },
  {
   "cell_type": "markdown",
   "metadata": {},
   "source": [
    "This model is really simple and the optimization of its performance is not the main goal of our project. Feel free to choose a better training dataset, another Word2Vec model (or another model) and to optimize the GBM model (or another model). Just be careful that complex models quickly become big, need a lot of memory and slow the process. "
   ]
  },
  {
   "cell_type": "markdown",
   "metadata": {},
   "source": [
    "## Export the Gradient Boosting Machine model in [POJO](http://docs.h2o.ai/h2o/latest-stable/h2o-genmodel/javadoc/overview-summary.html#whatisapojo) format"
   ]
  },
  {
   "cell_type": "code",
   "execution_count": null,
   "metadata": {
    "ExecuteTime": {
     "start_time": "2018-11-30T09:43:30.450Z"
    }
   },
   "outputs": [],
   "source": [
    "gbm_sentiment_classifier.download_pojo('.') # Put the java file in the same folder as this notebook"
   ]
  }
 ],
 "metadata": {
  "kernelspec": {
   "display_name": "Python 3",
   "language": "python",
   "name": "python3"
  },
  "language_info": {
   "codemirror_mode": {
    "name": "ipython",
    "version": 3
   },
   "file_extension": ".py",
   "mimetype": "text/x-python",
   "name": "python",
   "nbconvert_exporter": "python",
   "pygments_lexer": "ipython3",
   "version": "3.6.5"
  },
  "varInspector": {
   "cols": {
    "lenName": 16,
    "lenType": 16,
    "lenVar": 40
   },
   "kernels_config": {
    "python": {
     "delete_cmd_postfix": "",
     "delete_cmd_prefix": "del ",
     "library": "var_list.py",
     "varRefreshCmd": "print(var_dic_list())"
    },
    "r": {
     "delete_cmd_postfix": ") ",
     "delete_cmd_prefix": "rm(",
     "library": "var_list.r",
     "varRefreshCmd": "cat(var_dic_list()) "
    }
   },
   "types_to_exclude": [
    "module",
    "function",
    "builtin_function_or_method",
    "instance",
    "_Feature"
   ],
   "window_display": false
  }
 },
 "nbformat": 4,
 "nbformat_minor": 2
}
